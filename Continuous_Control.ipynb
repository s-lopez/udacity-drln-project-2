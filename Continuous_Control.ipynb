{
 "cells": [
  {
   "cell_type": "markdown",
   "metadata": {},
   "source": [
    "# Continuous Control\n",
    "\n",
    "---\n",
    "\n",
    "In this notebook, you will learn how to use the Unity ML-Agents environment for the second project of the [Deep Reinforcement Learning Nanodegree](https://www.udacity.com/course/deep-reinforcement-learning-nanodegree--nd893) program.\n",
    "\n",
    "### 1. Start the Environment\n",
    "\n",
    "We begin by importing the necessary packages.  If the code cell below returns an error, please revisit the project instructions to double-check that you have installed [Unity ML-Agents](https://github.com/Unity-Technologies/ml-agents/blob/master/docs/Installation.md) and [NumPy](http://www.numpy.org/)."
   ]
  },
  {
   "cell_type": "code",
   "execution_count": 1,
   "metadata": {},
   "outputs": [],
   "source": [
    "from unityagents import UnityEnvironment\n",
    "import numpy as np"
   ]
  },
  {
   "cell_type": "code",
   "execution_count": 2,
   "metadata": {},
   "outputs": [
    {
     "name": "stderr",
     "output_type": "stream",
     "text": [
      "INFO:unityagents:\n",
      "'Academy' started successfully!\n",
      "Unity Academy name: Academy\n",
      "        Number of Brains: 1\n",
      "        Number of External Brains : 1\n",
      "        Lesson number : 0\n",
      "        Reset Parameters :\n",
      "\t\tgoal_speed -> 1.0\n",
      "\t\tgoal_size -> 5.0\n",
      "Unity brain name: ReacherBrain\n",
      "        Number of Visual Observations (per agent): 0\n",
      "        Vector Observation space type: continuous\n",
      "        Vector Observation space size (per agent): 33\n",
      "        Number of stacked Vector Observation: 1\n",
      "        Vector Action space type: continuous\n",
      "        Vector Action space size (per agent): 4\n",
      "        Vector Action descriptions: , , , \n"
     ]
    }
   ],
   "source": [
    "PATH_TO_ENV = \"Reacher_Linux/Reacher.x86\"\n",
    "BRAIN = \"ReacherBrain\"\n",
    "TRAINING = True\n",
    "\n",
    "env = UnityEnvironment(file_name=PATH_TO_ENV, no_graphics=TRAINING)\n",
    "\n",
    "ACTION_SIZE = env.brains[BRAIN].vector_action_space_size\n",
    "STATE_SIZE = env.brains[BRAIN].vector_observation_space_size"
   ]
  },
  {
   "cell_type": "markdown",
   "metadata": {},
   "source": [
    "Environments contain **_brains_** which are responsible for deciding the actions of their associated agents. Here we check for the first brain available, and set it as the default brain we will be controlling from Python."
   ]
  },
  {
   "cell_type": "code",
   "execution_count": 3,
   "metadata": {},
   "outputs": [
    {
     "name": "stdout",
     "output_type": "stream",
     "text": [
      "Number of agents: 1\n",
      "Size of each action: 4\n",
      "There are 1 agents. Each observes a state with length: 33\n",
      "The state for the first agent looks like: [ 0.00000000e+00 -4.00000000e+00  0.00000000e+00  1.00000000e+00\n",
      " -0.00000000e+00 -0.00000000e+00 -4.37113883e-08  0.00000000e+00\n",
      "  0.00000000e+00  0.00000000e+00  0.00000000e+00  0.00000000e+00\n",
      "  0.00000000e+00  0.00000000e+00 -1.00000000e+01  0.00000000e+00\n",
      "  1.00000000e+00 -0.00000000e+00 -0.00000000e+00 -4.37113883e-08\n",
      "  0.00000000e+00  0.00000000e+00  0.00000000e+00  0.00000000e+00\n",
      "  0.00000000e+00  0.00000000e+00  5.75471878e+00 -1.00000000e+00\n",
      "  5.55726671e+00  0.00000000e+00  1.00000000e+00  0.00000000e+00\n",
      " -1.68164849e-01]\n"
     ]
    }
   ],
   "source": [
    "# reset the environment\n",
    "env_info = env.reset(train_mode=True)[BRAIN]\n",
    "\n",
    "# number of agents\n",
    "num_agents = len(env_info.agents)\n",
    "print('Number of agents:', num_agents)\n",
    "\n",
    "# size of each action\n",
    "print('Size of each action:', ACTION_SIZE)\n",
    "\n",
    "# examine the state space \n",
    "states = env_info.vector_observations\n",
    "print('There are {} agents. Each observes a state with length: {}'.format(states.shape[0], STATE_SIZE))\n",
    "print('The state for the first agent looks like:', states[0])"
   ]
  },
  {
   "cell_type": "markdown",
   "metadata": {},
   "source": [
    "# Convenience functions"
   ]
  },
  {
   "cell_type": "code",
   "execution_count": 4,
   "metadata": {},
   "outputs": [],
   "source": [
    "def act(env, actions, brain_name=BRAIN) -> tuple:\n",
    "    \"\"\"Sends actions to the environment env and observes the results.\n",
    "    Returns a tuple of rewards, next_states, dones (One per agent)\"\"\"\n",
    "    action_result = env.step(actions)[brain_name] # Act on the environment and observe the result\n",
    "    return (action_result.rewards,\n",
    "            action_result.vector_observations, # next states\n",
    "            action_result.local_done) # True if the episode ended\n",
    "    \n",
    "def reset(env, training=TRAINING, brain_name=BRAIN) -> np.ndarray:\n",
    "    \"\"\"Syntactic sugar for resetting the unity environment\"\"\"\n",
    "    return env.reset(train_mode=training)[brain_name].vector_observations"
   ]
  },
  {
   "cell_type": "markdown",
   "metadata": {},
   "source": [
    "# Prepare the training"
   ]
  },
  {
   "cell_type": "code",
   "execution_count": 5,
   "metadata": {},
   "outputs": [],
   "source": [
    "#from IPython.display import clear_output\n",
    "np.set_printoptions(precision=3, suppress=True)"
   ]
  },
  {
   "cell_type": "code",
   "execution_count": 6,
   "metadata": {},
   "outputs": [],
   "source": [
    "# Profiling (optional)\n",
    "import cProfile\n",
    "profiling = False # Set to True to profile execution time\n",
    "if profiling:\n",
    "    profile = cProfile.Profile()"
   ]
  },
  {
   "cell_type": "code",
   "execution_count": 7,
   "metadata": {},
   "outputs": [],
   "source": [
    "# Invite our agent & import utils\n",
    "from ddpg_agent import Agent\n",
    "import torch"
   ]
  },
  {
   "cell_type": "code",
   "execution_count": 8,
   "metadata": {},
   "outputs": [],
   "source": [
    "def train(agent, env, num_episodes, log_freq, max_t=20000, profiling=False, profile=None):        \n",
    "    score_hist = np.zeros((num_agents, 1))\n",
    "    if profiling: \n",
    "        profile.enable()\n",
    "    \n",
    "    # Train\n",
    "    for i in range(num_episodes):\n",
    "        states = reset(env)\n",
    "        scores = np.zeros(num_agents)\n",
    "        for j in range(max_t): # Safer than while\n",
    "            # Decide\n",
    "            #state = states.squeeze() # One agent only\n",
    "            actions = agent.decide(states)  # Choose an action based on the state\n",
    "            #actions = np.expand_dims(action, 0) # One agent only\n",
    "            # Act\n",
    "            rewards, next_states, dones = act(env, actions)     # Send the actions to the environment\n",
    "            scores += rewards                         # update the score (for each agent)\n",
    "            # Learn\n",
    "            agent.step(states, actions, rewards[0], next_states[0], dones[0]) # Learn step\n",
    "            # Step\n",
    "            states = next_states                               # roll over states to next time step\n",
    "            # Exit\n",
    "            if np.any(dones):                                  # exit loop if episode finished\n",
    "                break       \n",
    "        # Logging\n",
    "        score_hist = np.concatenate((score_hist, scores[:, None]), axis=1)\n",
    "        if (i % log_freq == 0) and (i > 0):\n",
    "            print(f'Avg. score episodes {i-log_freq+1}-{i+1}: {np.mean(score_hist.squeeze()[-log_freq:])}')\n",
    "        \n",
    "        if np.mean(score_hist.squeeze()[-100:]) >= 30:\n",
    "            print(f'Solved in {i} steps!')\n",
    "            break\n",
    "\n",
    "    if profiling: \n",
    "        profile.disable()\n",
    "        \n",
    "    return score_hist.squeeze()"
   ]
  },
  {
   "cell_type": "code",
   "execution_count": 9,
   "metadata": {},
   "outputs": [
    {
     "name": "stdout",
     "output_type": "stream",
     "text": [
      "Avg. score episodes 1-11: 0.2679999940097332\n",
      "Avg. score episodes 11-21: 0.6899999845772982\n",
      "Avg. score episodes 21-31: 1.1569999741390347\n",
      "Avg. score episodes 31-41: 1.6389999633654952\n",
      "Avg. score episodes 41-51: 2.4229999458417297\n",
      "Avg. score episodes 51-61: 3.601999919489026\n",
      "Avg. score episodes 61-71: 3.996999910660088\n",
      "Avg. score episodes 71-81: 3.7899999152868986\n",
      "Avg. score episodes 81-91: 4.737999894097447\n",
      "Avg. score episodes 91-101: 5.104999885894358\n",
      "Avg. score episodes 101-111: 7.489999832585454\n",
      "Avg. score episodes 111-121: 7.8079998254776\n",
      "Avg. score episodes 121-131: 8.593999807909132\n",
      "Avg. score episodes 131-141: 8.952999799884855\n",
      "Avg. score episodes 141-151: 9.572999786026775\n",
      "Avg. score episodes 151-161: 8.524999809451401\n",
      "Avg. score episodes 161-171: 12.749999715015292\n",
      "Avg. score episodes 171-181: 12.689999716356397\n",
      "Avg. score episodes 181-191: 18.52599958591163\n",
      "Avg. score episodes 191-201: 17.456999609805642\n",
      "Avg. score episodes 201-211: 18.10099959541112\n",
      "Avg. score episodes 211-221: 17.988999597914518\n",
      "Avg. score episodes 221-231: 20.54299954082817\n",
      "Avg. score episodes 231-241: 22.110999505780637\n",
      "Avg. score episodes 241-251: 23.414999476633966\n",
      "Avg. score episodes 251-261: 28.56199936158955\n",
      "Avg. score episodes 261-271: 24.167999459803106\n",
      "Avg. score episodes 271-281: 28.297999367490412\n",
      "Avg. score episodes 281-291: 27.462999386154117\n",
      "Avg. score episodes 291-301: 29.264999345876276\n",
      "Avg. score episodes 301-311: 31.493999296054245\n",
      "Avg. score episodes 311-321: 32.59999927133322\n",
      "Avg. score episodes 321-331: 32.238999279402194\n",
      "Avg. score episodes 331-341: 33.00799926221371\n",
      "Avg. score episodes 341-351: 29.426999342255293\n",
      "Solved in 356 steps!\n",
      "CPU times: user 1h 57s, sys: 1min 19s, total: 1h 2min 16s\n",
      "Wall time: 1h 6min 54s\n"
     ]
    }
   ],
   "source": [
    "%%time\n",
    "agent = Agent(STATE_SIZE, ACTION_SIZE, np.random.randint(1e5), cuda=True)\n",
    "score_hist = train(agent, env, num_episodes=500, log_freq=10)"
   ]
  },
  {
   "cell_type": "markdown",
   "metadata": {},
   "source": [
    "# Plotting + visualizing"
   ]
  },
  {
   "cell_type": "code",
   "execution_count": 10,
   "metadata": {},
   "outputs": [],
   "source": [
    "from matplotlib import pyplot as plt\n",
    "#import seaborn as sns"
   ]
  },
  {
   "cell_type": "code",
   "execution_count": 11,
   "metadata": {},
   "outputs": [],
   "source": [
    "def moving_average(signal:np.ndarray , period: int):\n",
    "    buffer = [np.nan] * period\n",
    "    for i in range(period,len(signal)):\n",
    "        buffer.append(signal[i-period:i].mean())\n",
    "    return np.array(buffer)\n",
    "\n",
    "#def moving_std(signal:np.ndarray , period: int):\n",
    "#    buffer = [np.nan] * period\n",
    "#    for i in range(period,len(signal)):\n",
    "#        buffer.append(signal[i-period:i].std())\n",
    "#    return np.array(buffer)"
   ]
  },
  {
   "cell_type": "code",
   "execution_count": 17,
   "metadata": {},
   "outputs": [
    {
     "data": {
      "text/plain": [
       "(0, 500)"
      ]
     },
     "execution_count": 17,
     "metadata": {},
     "output_type": "execute_result"
    },
    {
     "data": {
      "image/png": "[encoded data removed]",
      "text/plain": [
       "<Figure size 576x360 with 1 Axes>"
      ]
     },
     "metadata": {
      "needs_background": "light"
     },
     "output_type": "display_data"
    }
   ],
   "source": [
    "length = 100\n",
    "avg_scores = moving_average(score_hist, length)\n",
    "plt.figure(figsize=(8,5))\n",
    "plt.plot(avg_scores, label='avg_scores')\n",
    "plt.hlines(30, xmin=0, xmax=500, colors='r', label='solved')\n",
    "plt.grid()\n",
    "plt.xlabel('Episode')\n",
    "plt.ylabel('Avg. score')\n",
    "plt.title(f'Avg. score over {length} episodes')\n",
    "plt.legend(loc='lower right')\n",
    "plt.xlim((0, 500))"
   ]
  },
  {
   "cell_type": "markdown",
   "metadata": {},
   "source": [
    "# Save models"
   ]
  },
  {
   "cell_type": "code",
   "execution_count": 13,
   "metadata": {},
   "outputs": [],
   "source": [
    "from datetime import datetime\n",
    "def save_agent(agent, name=None, avg_scores=None):\n",
    "    \"\"\"Saves the agent's parameters and the underlying pytorch model\"\"\"\n",
    "    checkpoint = {'actor_state_dict': agent.actor_local.state_dict(),\n",
    "                  'critic_state_dict': agent.critic_local.state_dict(),\n",
    "                  'score_hist': score_hist}\n",
    "    if not name:\n",
    "        # Standard name: score-episodes-date\n",
    "        name = f'{round(avg_scores[-1],1)}-{len(avg_scores)}-{datetime.strftime(datetime.now(),\"%d.%m.%y_%H.%M\")}'\n",
    "        \n",
    "    torch.save(checkpoint, f'models/{name}-checkpoint.pth')"
   ]
  },
  {
   "cell_type": "code",
   "execution_count": 14,
   "metadata": {},
   "outputs": [],
   "source": [
    "save_agent(agent, avg_scores=avg_scores)"
   ]
  },
  {
   "cell_type": "code",
   "execution_count": 15,
   "metadata": {},
   "outputs": [],
   "source": [
    "env.close()"
   ]
  }
 ],
 "metadata": {
  "kernelspec": {
   "display_name": "drlnd",
   "language": "python",
   "name": "drlnd"
  },
  "language_info": {
   "codemirror_mode": {
    "name": "ipython",
    "version": 3
   },
   "file_extension": ".py",
   "mimetype": "text/x-python",
   "name": "python",
   "nbconvert_exporter": "python",
   "pygments_lexer": "ipython3",
   "version": "3.6.9"
  }
 },
 "nbformat": 4,
 "nbformat_minor": 2
}
